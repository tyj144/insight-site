{
 "cells": [
  {
   "cell_type": "code",
   "execution_count": 5,
   "metadata": {
    "collapsed": true
   },
   "outputs": [],
   "source": [
    "import os\n",
    "import nltk\n",
    "from nltk import word_tokenize\n",
    "from nltk.corpus import stopwords\n",
    "from nltk import pos_tag\n",
    "from nltk.corpus import wordnet\n",
    "from itertools import chain\n",
    "import json\n",
    "from pprint import pprint\n",
    "import subprocess"
   ]
  },
  {
   "cell_type": "code",
   "execution_count": 6,
   "metadata": {},
   "outputs": [
    {
     "name": "stdout",
     "output_type": "stream",
     "text": [
      "Got\n",
      "DONE\n"
     ]
    }
   ],
   "source": [
    "def check(req_file='output_text.txt'):\n",
    "#     path = os.getcwd() + \"/\"\n",
    "    path ='/Users/fenildoshi/codes/Hack@Brown18/'\n",
    "    present=False\n",
    "    \n",
    "    while(not present):\n",
    "        items=os.listdir(path)\n",
    "        for item in items:\n",
    "            if(item==req_file):\n",
    "                print'Got'\n",
    "                contents=\"\"\n",
    "                ## Analysis\n",
    "                \n",
    "                ## Open the File and read in string\n",
    "                with open('output_text.txt','r') as my_file:\n",
    "                    contents=my_file.read()\n",
    "                tokens=word_tokenize(contents)\n",
    "                stop_words = [word for word in tokens if word in stopwords.words('english')]\n",
    "                filtered_words = [word for word in tokens if word not in stopwords.words('english')]\n",
    "                pos_tags=nltk.pos_tag(filtered_words)\n",
    "                interested_words=[]\n",
    "                \n",
    "                interested_tags=['JJ','JJR','JJS','VB','VBD','VBG','VBN','VBP','VBZ']\n",
    "                for word in pos_tags:\n",
    "                    if(word[1] in interested_tags):\n",
    "                        interested_words.append(word[0])\n",
    "                \n",
    "                interested_words=list(set(interested_words))  \n",
    "                \n",
    "                synonym_dict={}\n",
    "                for word in interested_words:\n",
    "                    curr_key=str(word)\n",
    "                    synonyms = wordnet.synsets(word)\n",
    "                    lemmas = set(chain.from_iterable([word.lemma_names() for word in synonyms]))\n",
    "                    synonym_dict[curr_key]=list(lemmas)\n",
    "                \n",
    "#                 print tokens\n",
    "#                 print stop_words\n",
    "#                 print filtered_words\n",
    "#                 print stop_words\n",
    "#                 print synonym_dict\n",
    "                \n",
    "            \n",
    "                with open('my_synonym.json', 'wb') as outfile:\n",
    "                    json.dump(synonym_dict, outfile)\n",
    "                \n",
    "                with open('output_interested.txt','wb') as outfile:\n",
    "                    for word in interested_words:\n",
    "                        outfile.write(word+'\\n')\n",
    "                \n",
    "                with open('output_stop.txt','wb') as outfile:\n",
    "                    for word in stop_words:\n",
    "                        outfile.write(word+'\\n')\n",
    "\n",
    "    \n",
    "#                 ##move transcript\n",
    "#                 subprocess.check_output(['cp','output_text.txt','/Users/fenildoshi/Desktop/insight_flask/insight_flask/static/text_folder/output_text.txt'])\n",
    "#                 ##move interested_words\n",
    "#                 subprocess.check_output(['mv','output_interested.txt','/Users/fenildoshi/Desktop/insight_flask/insight_flask/static/text_folder/output_interested.txt'])\n",
    "#                 ##move stop\n",
    "#                 subprocess.check_output(['mv','output_stop.txt','/Users/fenildoshi/Desktop/insight_flask/insight_flask/static/text_folder/output_stop.txt'])\n",
    "                \n",
    "#                 data=json.load(open('my_synonym.json'))\n",
    "#                 pprint(data)\n",
    "                print 'DONE'\n",
    "                ## Tokenize the string\n",
    "                \n",
    "                \n",
    "                \n",
    "                present=True\n",
    "#             else:\n",
    "#                 print'Searching\n",
    "\n",
    "check()"
   ]
  },
  {
   "cell_type": "code",
   "execution_count": null,
   "metadata": {
    "collapsed": true
   },
   "outputs": [],
   "source": []
  }
 ],
 "metadata": {
  "kernelspec": {
   "display_name": "Python 2",
   "language": "python",
   "name": "python2"
  },
  "language_info": {
   "codemirror_mode": {
    "name": "ipython",
    "version": 2
   },
   "file_extension": ".py",
   "mimetype": "text/x-python",
   "name": "python",
   "nbconvert_exporter": "python",
   "pygments_lexer": "ipython2",
   "version": "2.7.10"
  }
 },
 "nbformat": 4,
 "nbformat_minor": 2
}
