{
 "cells": [
  {
   "cell_type": "code",
   "execution_count": 7,
   "metadata": {
    "collapsed": true
   },
   "outputs": [],
   "source": [
    "import speech\n",
    "import brown_video\n",
    "import threading\n",
    "import time\n",
    "import os\n",
    "import subprocess\n",
    "import time"
   ]
  },
  {
   "cell_type": "code",
   "execution_count": 8,
   "metadata": {},
   "outputs": [
    {
     "name": "stdout",
     "output_type": "stream",
     "text": [
      "Got\n",
      "Now you can call daemon_now\n",
      "\n",
      "/Users/fenildoshi/codes/Hack@Brown18\n",
      "\n",
      "inside\n",
      "_________________\n",
      "_________________\n",
      "_________________\n",
      "_________________\n",
      "_________________\n",
      "_________________\n",
      "NORMALIZED RESULT:  {'sadness': 0.02996955878366611, 'happiness': 0.41579119844042794, 'disgust': 0.010363963332561413, 'anger': 0.005895658425625457, 'surprise': 0.006641072396259463, 'fear': 0.0005833820144963025, 'neutral': 0.5194337590361163, 'contempt': 0.011321407570847134}\n",
      "<speech_recognition.AudioData object at 0x10b32f690>\n",
      "Speech Work Done\n"
     ]
    }
   ],
   "source": [
    "def testing():\n",
    "    for i in range(10):\n",
    "        print i\n",
    "        time.sleep(1)\n",
    "\n",
    "\n",
    "def first_call():\n",
    "    try:\n",
    "#         print 'hello'\n",
    "        brown_video.web_cam(video_file='rec_0.webm')\n",
    "        speech.speech(sound_file='rec_2.wav')\n",
    "\n",
    "            \n",
    "#         t1=threading.Thread(target=speech.speech,argrs=('rec_2.wav',))\n",
    "#         t2=threading.Thread(target=brown_video.web_cam,args=('rec_0.webm',))\n",
    "#         t3=threading.Thread(target=testing)\n",
    "#         t1.daemon=True\n",
    "#         t2.daemon=True\n",
    "#         t1.start()\n",
    "#         t2.start()\n",
    "        \n",
    "    #     t3.start()\n",
    "\n",
    "    except:\n",
    "        print'NOOOOOOOOO'\n",
    "\n",
    "def check(req_file='rec_0.webm'):\n",
    "#     path = os.getcwd() + \"/\"\n",
    "    path ='/Users/fenildoshi/Downloads'\n",
    "    present=False\n",
    "    \n",
    "    while(not present):\n",
    "        items=os.listdir(path)\n",
    "        for item in items:\n",
    "            if(item==req_file):\n",
    "                print'Got'\n",
    "                present=True\n",
    "#             else:\n",
    "#                 print'Searching'\n",
    "    print 'Now you can call daemon_now'\n",
    "\n",
    "    print subprocess.check_output(['mv',os.path.join(path,req_file),'/Users/fenildoshi/codes/Hack@Brown18/rec_0.webm'])#,shell=True, stderr=subprocess.STDOUT)\n",
    "#     time.sleep(5)\n",
    "    subprocess.check_output(['ffmpeg','-i','rec_0.webm','-vn','-ab','128k','-ar','44100','-y','rec_1.mp3'])\n",
    "#     time.sleep(5)\n",
    "    subprocess.check_output(['ffmpeg','-i','rec_1.mp3','-acodec','pcm_s16le','-ac','1','-ar','22050','rec_2.wav'])\n",
    "#     time.sleep(2)\n",
    "    print subprocess.check_output(['pwd'])\n",
    "    first_call()\n",
    "\n",
    "\n",
    "check(req_file='test_formal.webm')\n",
    "\n",
    "# first_call()\n",
    "# video.checking()"
   ]
  },
  {
   "cell_type": "code",
   "execution_count": null,
   "metadata": {
    "collapsed": true
   },
   "outputs": [],
   "source": []
  },
  {
   "cell_type": "code",
   "execution_count": null,
   "metadata": {
    "collapsed": true
   },
   "outputs": [],
   "source": []
  }
 ],
 "metadata": {
  "kernelspec": {
   "display_name": "Python 2",
   "language": "python",
   "name": "python2"
  },
  "language_info": {
   "codemirror_mode": {
    "name": "ipython",
    "version": 2
   },
   "file_extension": ".py",
   "mimetype": "text/x-python",
   "name": "python",
   "nbconvert_exporter": "python",
   "pygments_lexer": "ipython2",
   "version": "2.7.10"
  }
 },
 "nbformat": 4,
 "nbformat_minor": 2
}
