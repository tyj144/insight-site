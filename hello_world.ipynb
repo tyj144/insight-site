{
 "cells": [
  {
   "cell_type": "code",
   "execution_count": 69,
   "metadata": {
    "collapsed": true
   },
   "outputs": [],
   "source": [
    "import daemon_now\n",
    "import os\n",
    "import subprocess\n",
    "import time\n"
   ]
  },
  {
   "cell_type": "code",
   "execution_count": 70,
   "metadata": {},
   "outputs": [
    {
     "name": "stdout",
     "output_type": "stream",
     "text": [
      "Got\n",
      "Now you can call daemon_now\n",
      "\n",
      "/Users/fenildoshi/codes/Hack@Brown18\n",
      "\n",
      "<speech_recognition.AudioData object at 0x10c145650>\n",
      "Speech Work Done\n"
     ]
    }
   ],
   "source": [
    "def check(req_file='rec_0.webm'):\n",
    "#     path = os.getcwd() + \"/\"\n",
    "    path ='/Users/fenildoshi/Downloads'\n",
    "    present=False\n",
    "    \n",
    "    while(not present):\n",
    "        items=os.listdir(path)\n",
    "        for item in items:\n",
    "            if(item==req_file):\n",
    "                print'Got'\n",
    "                present=True\n",
    "#             else:\n",
    "#                 print'Searching'\n",
    "    print 'Now you can call daemon_now'\n",
    "\n",
    "    print subprocess.check_output(['mv',os.path.join(path,req_file),'/Users/fenildoshi/codes/Hack@Brown18/rec_0.webm'])#,shell=True, stderr=subprocess.STDOUT)\n",
    "#     time.sleep(5)\n",
    "    subprocess.check_output(['ffmpeg','-i','rec_0.webm','-vn','-ab','128k','-ar','44100','-y','rec_1.mp3'])\n",
    "#     time.sleep(5)\n",
    "    subprocess.check_output(['ffmpeg','-i','rec_1.mp3','-acodec','pcm_s16le','-ac','1','-ar','22050','rec_2.wav'])\n",
    "#     time.sleep(2)\n",
    "    print subprocess.check_output(['pwd'])\n",
    "    daemon_now.first_call()\n",
    "            \n",
    "\n",
    "check(req_file='test_formal.webm')"
   ]
  },
  {
   "cell_type": "code",
   "execution_count": null,
   "metadata": {
    "collapsed": true
   },
   "outputs": [],
   "source": []
  }
 ],
 "metadata": {
  "kernelspec": {
   "display_name": "Python 2",
   "language": "python",
   "name": "python2"
  },
  "language_info": {
   "codemirror_mode": {
    "name": "ipython",
    "version": 2
   },
   "file_extension": ".py",
   "mimetype": "text/x-python",
   "name": "python",
   "nbconvert_exporter": "python",
   "pygments_lexer": "ipython2",
   "version": "2.7.10"
  }
 },
 "nbformat": 4,
 "nbformat_minor": 2
}
